{
 "cells": [
  {
   "cell_type": "code",
   "execution_count": 6,
   "id": "827ab35b-74b8-488f-95ee-1a984eb36432",
   "metadata": {},
   "outputs": [
    {
     "name": "stdin",
     "output_type": "stream",
     "text": [
      "Enter overall score:  80\n",
      "Enter intelligence score:  10\n",
      "Enter speed score:  56\n",
      "Enter power score:  40\n",
      "Enter combat score:  50\n",
      "Has mind control resistance (1 for Yes, 0 for No):  1\n",
      "Has telepathy resistance (1 for Yes, 0 for No):  1\n"
     ]
    },
    {
     "name": "stdout",
     "output_type": "stream",
     "text": [
      "The predicted superhero is: Champion Of The Universe\n"
     ]
    }
   ],
   "source": [
    "import pandas as pd\n",
    "from matplotlib import pyplot as plt\n",
    "df=pd.read_csv(\"C:/Users/ACER/Downloads/test.csv\")\n",
    "\n",
    "\n",
    "df=df.dropna()\n",
    "\n",
    "\n",
    "Y = df['name']\n",
    "X = df[['overall_score','intelligence_score','speed_score','power_score','combat_score','has_mind_control_resistance','has_telepathy_resistance']]\n",
    "\n",
    "\n",
    "from sklearn.model_selection import train_test_split\n",
    "X_train,X_test,y_train,y_test=train_test_split(X,Y,test_size=0.2,random_state=20)\n",
    "#print(X_test)\n",
    "\n",
    "\n",
    "from sklearn.linear_model import LogisticRegression\n",
    "model=LogisticRegression()\n",
    "model.fit(X_train,y_train)\n",
    "\n",
    "\n",
    "\n",
    "prediction_test=model.predict(X_test)\n",
    "\n",
    "\n",
    "\n",
    "from sklearn import metrics\n",
    "#print(\"Accuracy= \",metrics.accuracy_score(y_test,prediction_test))\n",
    "#print(\"Confusion matrix: \")\n",
    "#print(metrics.confusion_matrix(y_test,prediction_test))\n",
    "\n",
    "\n",
    "weights=pd.Series(model.coef_[0],index=X.columns.values)\n",
    "#print(weights)\n",
    "\n",
    "def predict_superhero():\n",
    "    \n",
    "    overall_score = float(input(\"Enter overall score: \"))\n",
    "    intelligence_score = float(input(\"Enter intelligence score: \"))\n",
    "    speed_score = float(input(\"Enter speed score: \"))\n",
    "    power_score = float(input(\"Enter power score: \"))\n",
    "    combat_score = float(input(\"Enter combat score: \"))\n",
    "    has_mind_control_resistance = int(input(\"Has mind control resistance (1 for Yes, 0 for No): \"))\n",
    "    has_telepathy_resistance = int(input(\"Has telepathy resistance (1 for Yes, 0 for No): \"))\n",
    "\n",
    "    \n",
    "    user_input = pd.DataFrame({\n",
    "        'overall_score': [overall_score],\n",
    "        'intelligence_score': [intelligence_score],\n",
    "        'speed_score': [speed_score],\n",
    "        'power_score': [power_score],\n",
    "        'combat_score': [combat_score],\n",
    "        'has_mind_control_resistance': [has_mind_control_resistance],\n",
    "        'has_telepathy_resistance': [has_telepathy_resistance]\n",
    "    })\n",
    "\n",
    "    \n",
    "    prediction = model.predict(user_input)\n",
    "    print(f\"The predicted superhero is: {prediction[0]}\")\n",
    "\n",
    "\n",
    "predict_superhero()\n",
    "\n",
    "\n",
    "\n",
    "\n",
    "\n",
    "\n",
    "\n",
    "\n",
    "\n",
    "\n"
   ]
  },
  {
   "cell_type": "code",
   "execution_count": null,
   "id": "92f30ada-97eb-413e-a1fa-818ab8f6e38d",
   "metadata": {},
   "outputs": [],
   "source": []
  },
  {
   "cell_type": "code",
   "execution_count": null,
   "id": "77742415-d8c3-4526-9b24-bfa0add42fae",
   "metadata": {},
   "outputs": [],
   "source": []
  }
 ],
 "metadata": {
  "kernelspec": {
   "display_name": "Python 3 (ipykernel)",
   "language": "python",
   "name": "python3"
  },
  "language_info": {
   "codemirror_mode": {
    "name": "ipython",
    "version": 3
   },
   "file_extension": ".py",
   "mimetype": "text/x-python",
   "name": "python",
   "nbconvert_exporter": "python",
   "pygments_lexer": "ipython3",
   "version": "3.12.4"
  }
 },
 "nbformat": 4,
 "nbformat_minor": 5
}
